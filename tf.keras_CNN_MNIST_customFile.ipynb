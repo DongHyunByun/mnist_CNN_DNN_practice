{
 "cells": [
  {
   "cell_type": "code",
   "execution_count": 1,
   "metadata": {},
   "outputs": [],
   "source": [
    "import numpy as np\n",
    "from PIL import Image\n",
    "import matplotlib.pyplot as plt\n",
    "\n",
    "# jpg 이미지를 숫자로\n",
    "def jpg_image_to_array(image_path, size):\n",
    "    # open image\n",
    "    image = Image.open(image_path)      \n",
    "    # resize (클수록 선명하지만 느릴 수 있다)\n",
    "    image = image.resize((size, size))  \n",
    "    # convert to int ndarray\n",
    "    im_arr = np.fromstring(image.tobytes(), dtype=np.uint8)  \n",
    "    # 모양확인 변수 .shape\n",
    "    print(im_arr.shape)\n",
    "    \n",
    "    \n",
    "    '''\n",
    "    # 3차원으로 바꾸기\n",
    "    im_arr[n][m][d]=> n,m위치의 d차원(r,g,b,중 하나)의 회색조값\n",
    "    \n",
    "    가로새로 28개\n",
    "    [\n",
    "    [[255,255,255],[255,255,255],[255,255,255],...[255,255,255]],\n",
    "    [[255,255,255],[255,255,255],[255,255,255],...[255,255,255]],\n",
    "    [[255,255,255],[255,255,255],[255,255,255],...[255,255,255]],\n",
    "    .\n",
    "    .\n",
    "    .\n",
    "    [[255,255,255],[255,255,255],[255,255,255],...[255,255,255]]\n",
    "    ]\n",
    "    \n",
    "    '''\n",
    "    # reshape to (28, 28, 3)\n",
    "    im_arr = im_arr.reshape((image.size[0], image.size[1], 3)) \n",
    "    print(im_arr.shape)\n",
    "    \n",
    "    # 흑백 반전, 색이 클수록 밝으므로 -1을 곱하고 255더하면 해당차원(R or G or B 색조의) 밝은곳은 어두워지고, 어두운곳은 밝아짐 \n",
    "    # (ex 완전한 초록색은 정반대의 색깔인 완전한 노란색)\n",
    "    im_arr = im_arr*(-1)+255   \n",
    "    return im_arr\n",
    "\n",
    "# convert to 1-channel by averaging\n",
    "def image_array_to_1channel(arr):\n",
    "    arr_avg = (arr[:,:,0]+arr[:,:,1]+arr[:,:,2])/3   \n",
    "    return arr_avg\n"
   ]
  },
  {
   "cell_type": "code",
   "execution_count": 4,
   "metadata": {},
   "outputs": [
    {
     "name": "stdout",
     "output_type": "stream",
     "text": [
      "Model: \"sequential\"\n",
      "_________________________________________________________________\n",
      "Layer (type)                 Output Shape              Param #   \n",
      "=================================================================\n",
      "conv1 (Conv2D)               (None, 28, 28, 16)        416       \n",
      "_________________________________________________________________\n",
      "pool1 (MaxPooling2D)         (None, 14, 14, 16)        0         \n",
      "_________________________________________________________________\n",
      "conv2 (Conv2D)               (None, 10, 10, 32)        12832     \n",
      "_________________________________________________________________\n",
      "pool2 (MaxPooling2D)         (None, 5, 5, 32)          0         \n",
      "_________________________________________________________________\n",
      "flatten (Flatten)            (None, 800)               0         \n",
      "_________________________________________________________________\n",
      "dense (Dense)                (None, 128)               102528    \n",
      "_________________________________________________________________\n",
      "dense_1 (Dense)              (None, 10)                1290      \n",
      "=================================================================\n",
      "Total params: 117,066\n",
      "Trainable params: 117,066\n",
      "Non-trainable params: 0\n",
      "_________________________________________________________________\n"
     ]
    }
   ],
   "source": [
    "#모델 불러오기\n",
    "from tensorflow.python.keras.models import load_model\n",
    "\n",
    "model = load_model(\"cnn_mnist.h5\")\n",
    "model.summary()"
   ]
  },
  {
   "cell_type": "code",
   "execution_count": 6,
   "metadata": {},
   "outputs": [
    {
     "name": "stdout",
     "output_type": "stream",
     "text": [
      "(2352,)\n",
      "(28, 28, 3)\n",
      "(28, 28)\n",
      "(1, 28, 28, 1)\n"
     ]
    },
    {
     "name": "stderr",
     "output_type": "stream",
     "text": [
      "C:\\anaconda\\lib\\site-packages\\ipykernel_launcher.py:12: DeprecationWarning: The binary mode of fromstring is deprecated, as it behaves surprisingly on unicode inputs. Use frombuffer instead\n",
      "  if sys.path[0] == '':\n"
     ]
    },
    {
     "data": {
      "image/png": "[encoded data removed]",
      "text/plain": [
       "<Figure size 432x288 with 1 Axes>"
      ]
     },
     "metadata": {
      "needs_background": "light"
     },
     "output_type": "display_data"
    }
   ],
   "source": [
    "path = \"MNIST/1/1.jpg\"\n",
    "\n",
    "# 1. 그림->숫자 함수 확인\n",
    "arr = jpg_image_to_array(path, 28)\n",
    "plt.imshow(arr, cmap=plt.get_cmap('gray'))\n",
    "\n",
    "# 2. 1채널화 함수 확인\n",
    "\n",
    "'''\n",
    "[\n",
    "[255,255,255,...255]\n",
    "[255,255,255....255]\n",
    ".\n",
    ".\n",
    ".\n",
    "[255,255,255....255]\n",
    "]\n",
    "'''\n",
    "arr_1c = image_array_to_1channel(arr) #원채널로\n",
    "print(arr_1c.shape)\n",
    "\n",
    "\n",
    "'''\n",
    "[\n",
    "[\n",
    "[[255],[255],[255],...[255]]\n",
    "[[255],[255],[255],...[255]]\n",
    ".\n",
    ".\n",
    ".\n",
    "[[255],[255],[255],...[255]]\n",
    "]\n",
    "]\n",
    "'''\n",
    "img_rows, img_cols = 28, 28\n",
    "x_train = arr_1c.reshape(1, img_rows, img_cols, 1) #CNN모델에 적용할수 있게\n",
    "print(x_train.shape)\n",
    "\n",
    "y_pred = model.predict_classes(x_train)"
   ]
  },
  {
   "cell_type": "code",
   "execution_count": 7,
   "metadata": {
    "scrolled": false
   },
   "outputs": [
    {
     "name": "stdout",
     "output_type": "stream",
     "text": [
      "-------------  현재 파일이름 : 1.jpg ---------------\n",
      "(2352,)\n",
      "(28, 28, 3)\n",
      "(28, 28)\n",
      "[ 현재 폴더 :  1 ]\n",
      "-------------  현재 파일이름 : 2.jpg ---------------\n",
      "(2352,)\n",
      "(28, 28, 3)\n",
      "(28, 28)\n",
      "[ 현재 폴더 :  2 ]\n",
      "-------------  현재 파일이름 : 5.jpg ---------------\n",
      "(2352,)\n",
      "(28, 28, 3)\n",
      "(28, 28)\n",
      "[ 현재 폴더 :  5 ]\n",
      "-------------  현재 파일이름 : 5_small.jpg ---------------\n",
      "(2352,)\n",
      "(28, 28, 3)\n",
      "(28, 28)\n",
      "[ 현재 폴더 :  5 ]\n"
     ]
    },
    {
     "name": "stderr",
     "output_type": "stream",
     "text": [
      "C:\\anaconda\\lib\\site-packages\\ipykernel_launcher.py:12: DeprecationWarning: The binary mode of fromstring is deprecated, as it behaves surprisingly on unicode inputs. Use frombuffer instead\n",
      "  if sys.path[0] == '':\n"
     ]
    }
   ],
   "source": [
    "import os\n",
    "dir = \"MNIST\"\n",
    "\n",
    "#폴더내의 모든 폴더or파일의 이름을 반환 os.listdir(), subdir_names=['1','2','5']\n",
    "subdir_names = os.listdir(dir)\n",
    "\n",
    "\n",
    "X_test = []\n",
    "y_test = []\n",
    "# (MNIST폴더)에서 (MNIST\\\\하위폴더)로 들어감\n",
    "for subdir_name in subdir_names:\n",
    "    subdir = dir+\"\\\\\"+subdir_name\n",
    "    file_names = os.listdir(subdir) #해당폴더에 모든 파일을 입력\n",
    "    for file_name in file_names:\n",
    "        print(\"-------------  현재 파일이름 :\",file_name,\"---------------\")\n",
    "        path = subdir+\"\\\\\"+file_name\n",
    "        arr = jpg_image_to_array(path, 28) #path는 상대경로로서 현재 디렉토리에서 하위로 들어감\n",
    "        arr_1c = image_array_to_1channel(arr)  # convert to 1-channel\n",
    "        print(arr_1c.shape)        \n",
    "        if len(X_test)==0:\n",
    "            X_test = [arr_1c]\n",
    "            y_test = int(subdir_name)\n",
    "            print(\"[ 현재 폴더 : \",subdir_name,\"]\")\n",
    "        else:\n",
    "            X_test = np.concatenate((X_test, [arr_1c]))\n",
    "            y_test = np.append(y_test, int(subdir_name))\n",
    "            print(\"[ 현재 폴더 : \",subdir_name,\"]\")"
   ]
  },
  {
   "cell_type": "code",
   "execution_count": 8,
   "metadata": {},
   "outputs": [
    {
     "name": "stdout",
     "output_type": "stream",
     "text": [
      "(4, 28, 28)\n",
      "(4, 28, 28, 1)\n"
     ]
    }
   ],
   "source": [
    "# CNN적용위해 끝차원 하나 늘림\n",
    "print(X_test.shape)\n",
    "X_test = np.expand_dims(X_test, axis=-1)\n",
    "print(X_test.shape)"
   ]
  },
  {
   "cell_type": "code",
   "execution_count": 9,
   "metadata": {},
   "outputs": [
    {
     "name": "stdout",
     "output_type": "stream",
     "text": [
      "[1 2 5 5]\n"
     ]
    }
   ],
   "source": [
    "# 모델을 통한 예측값\n",
    "y_pred = model.predict_classes(X_test)\n",
    "print(y_pred)"
   ]
  },
  {
   "cell_type": "code",
   "execution_count": 10,
   "metadata": {},
   "outputs": [
    {
     "name": "stdout",
     "output_type": "stream",
     "text": [
      "[[0. 1. 0. 0. 0. 0. 0. 0. 0. 0.]\n",
      " [0. 0. 1. 0. 0. 0. 0. 0. 0. 0.]\n",
      " [0. 0. 0. 0. 0. 1. 0. 0. 0. 0.]\n",
      " [0. 0. 0. 0. 0. 1. 0. 0. 0. 0.]]\n",
      "4/1 [========================================================================================================================] - 0s 40ms/sample - loss: 0.0000e+00 - accuracy: 1.0000\n",
      "test_loss:  0.0\n",
      "test_acc:  1.0\n"
     ]
    }
   ],
   "source": [
    "from tensorflow.keras import utils\n",
    "\n",
    "# 결과값 원핫코딩\n",
    "y_binary = utils.to_categorical(y_test, 10)\n",
    "print(y_binary)\n",
    "\n",
    "#평가\n",
    "score = model.evaluate(X_test, y_binary)\n",
    "print('test_loss: ', score[0])\n",
    "print('test_acc: ', score[1])"
   ]
  }
 ],
 "metadata": {
  "kernelspec": {
   "display_name": "Python 3",
   "language": "python",
   "name": "python3"
  },
  "language_info": {
   "codemirror_mode": {
    "name": "ipython",
    "version": 3
   },
   "file_extension": ".py",
   "mimetype": "text/x-python",
   "name": "python",
   "nbconvert_exporter": "python",
   "pygments_lexer": "ipython3",
   "version": "3.7.3"
  }
 },
 "nbformat": 4,
 "nbformat_minor": 2
}
